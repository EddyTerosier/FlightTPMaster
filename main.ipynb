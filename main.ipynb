{
 "cells": [
  {
   "cell_type": "markdown",
   "source": [
    "Import"
   ],
   "metadata": {
    "collapsed": false
   },
   "id": "4ed4fda4796d267e"
  },
  {
   "cell_type": "code",
   "outputs": [],
   "source": [
    "import os\n",
    "import json\n",
    "\n",
    "import pandas as pd\n",
    "from matplotlib import pyplot as plt\n",
    "import tabula"
   ],
   "metadata": {
    "collapsed": false,
    "ExecuteTime": {
     "end_time": "2024-10-16T10:58:58.433637Z",
     "start_time": "2024-10-16T10:58:58.429911Z"
    }
   },
   "id": "54f8310722b84164",
   "execution_count": 284
  },
  {
   "cell_type": "markdown",
   "source": [
    "DataSet"
   ],
   "metadata": {
    "collapsed": false
   },
   "id": "e2faf896e4747a9d"
  },
  {
   "cell_type": "code",
   "outputs": [],
   "source": [
    "airports_df = pd.read_excel('assets/airports.xlsx')\n",
    "flights_df = pd.read_excel('assets/flights.xlsx')\n",
    "planes_df = pd.read_csv('assets/planes.csv')\n",
    "airlines_df = pd.read_json('assets/airlines.json')"
   ],
   "metadata": {
    "collapsed": false,
    "ExecuteTime": {
     "end_time": "2024-10-16T10:59:06.318478Z",
     "start_time": "2024-10-16T10:58:58.434646Z"
    }
   },
   "id": "faa6644bb6bc564",
   "execution_count": 285
  },
  {
   "cell_type": "markdown",
   "source": [
    "Preprocessing"
   ],
   "metadata": {
    "collapsed": false
   },
   "id": "6e2f62997903a735"
  },
  {
   "cell_type": "code",
   "outputs": [],
   "source": [
    "# Séparation des colonnes en utilisant la virgule comme séparateur\n",
    "flights_df = flights_df['year,month,day,dep_time,sched_dep_time,dep_delay,arr_time,sched_arr_time,arr_delay,carrier,flight,tailnum,origin,dest,air_time,distance,hour,minute,time_hour'].str.split(',', expand=True)\n",
    "\n",
    "# Renommer les colonnes après la séparation\n",
    "flights_df.columns = ['year', 'month', 'day', 'dep_time', 'sched_dep_time', 'dep_delay', 'arr_time', 'sched_arr_time', 'arr_delay', 'carrier', 'flight', 'tailnum', 'origin', 'dest', 'air_time', 'distance', 'hour', 'minute', 'time_hour']"
   ],
   "metadata": {
    "collapsed": false,
    "ExecuteTime": {
     "end_time": "2024-10-16T10:59:07.577533Z",
     "start_time": "2024-10-16T10:59:06.319785Z"
    }
   },
   "id": "d3dcfb14640e506a",
   "execution_count": 286
  },
  {
   "cell_type": "code",
   "outputs": [
    {
     "data": {
      "text/plain": "        year month day dep_time sched_dep_time dep_delay arr_time  \\\n0       2021     1   1      517            515         2      830   \n1       2021     1   1      533            529         4      850   \n2       2021     1   1      542            540         2      923   \n3       2021     1   1      544            545        -1     1004   \n4       2021     1   1      554            600        -6      812   \n...      ...   ...  ..      ...            ...       ...      ...   \n252699  2021     7   3     1059           1100        -1     1214   \n252700  2021     7   3     1059           1100        -1     1207   \n252701  2021     7   3     1101           1110        -9     1305   \n252702  2021     7   3     1105           1055        10     1435   \n252703  2021     7   3     1107           1100         7     1220   \n\n       sched_arr_time arr_delay carrier flight tailnum origin dest air_time  \\\n0                 819        11      UA   1545  N14228    EWR  IAH      227   \n1                 830        20      UA   1714  N24211    LGA  IAH      227   \n2                 850        33      AA   1141  N619AA    JFK  MIA      160   \n3                1022       -18      B6    725  N804JB    JFK  BQN      183   \n4                 837       -25      DL    461  N668DN    LGA  ATL      116   \n...               ...       ...     ...    ...     ...    ...  ...      ...   \n252699           1210         4      MQ   3230  N522MQ    JFK  DCA       51   \n252700           1213        -6      US   2171  N754UW    LGA  DCA       43   \n252701           1240        25      9E   3910  N813AY    JFK  RIC       61   \n252702           1358        37      B6    971  N598JB    LGA  FLL      176   \n252703           1230       -10      WN   3297  N264LV    LGA  BNA      109   \n\n       distance hour minute             time_hour  \n0          1400    5     15  2021-01-01T05:00:00Z  \n1          1416    5     29  2021-01-01T05:00:00Z  \n2          1089    5     40  2021-01-01T05:00:00Z  \n3          1576    5     45  2021-01-01T05:00:00Z  \n4           762    6      0  2021-01-01T06:00:00Z  \n...         ...  ...    ...                   ...  \n252699      213   11      0  2021-07-03T11:00:00Z  \n252700      214   11      0  2021-07-03T11:00:00Z  \n252701      288   11     10  2021-07-03T11:00:00Z  \n252702     1076   10     55  2021-07-03T10:00:00Z  \n252703      764   11      0  2021-07-03T11:00:00Z  \n\n[252704 rows x 19 columns]",
      "text/html": "<div>\n<style scoped>\n    .dataframe tbody tr th:only-of-type {\n        vertical-align: middle;\n    }\n\n    .dataframe tbody tr th {\n        vertical-align: top;\n    }\n\n    .dataframe thead th {\n        text-align: right;\n    }\n</style>\n<table border=\"1\" class=\"dataframe\">\n  <thead>\n    <tr style=\"text-align: right;\">\n      <th></th>\n      <th>year</th>\n      <th>month</th>\n      <th>day</th>\n      <th>dep_time</th>\n      <th>sched_dep_time</th>\n      <th>dep_delay</th>\n      <th>arr_time</th>\n      <th>sched_arr_time</th>\n      <th>arr_delay</th>\n      <th>carrier</th>\n      <th>flight</th>\n      <th>tailnum</th>\n      <th>origin</th>\n      <th>dest</th>\n      <th>air_time</th>\n      <th>distance</th>\n      <th>hour</th>\n      <th>minute</th>\n      <th>time_hour</th>\n    </tr>\n  </thead>\n  <tbody>\n    <tr>\n      <th>0</th>\n      <td>2021</td>\n      <td>1</td>\n      <td>1</td>\n      <td>517</td>\n      <td>515</td>\n      <td>2</td>\n      <td>830</td>\n      <td>819</td>\n      <td>11</td>\n      <td>UA</td>\n      <td>1545</td>\n      <td>N14228</td>\n      <td>EWR</td>\n      <td>IAH</td>\n      <td>227</td>\n      <td>1400</td>\n      <td>5</td>\n      <td>15</td>\n      <td>2021-01-01T05:00:00Z</td>\n    </tr>\n    <tr>\n      <th>1</th>\n      <td>2021</td>\n      <td>1</td>\n      <td>1</td>\n      <td>533</td>\n      <td>529</td>\n      <td>4</td>\n      <td>850</td>\n      <td>830</td>\n      <td>20</td>\n      <td>UA</td>\n      <td>1714</td>\n      <td>N24211</td>\n      <td>LGA</td>\n      <td>IAH</td>\n      <td>227</td>\n      <td>1416</td>\n      <td>5</td>\n      <td>29</td>\n      <td>2021-01-01T05:00:00Z</td>\n    </tr>\n    <tr>\n      <th>2</th>\n      <td>2021</td>\n      <td>1</td>\n      <td>1</td>\n      <td>542</td>\n      <td>540</td>\n      <td>2</td>\n      <td>923</td>\n      <td>850</td>\n      <td>33</td>\n      <td>AA</td>\n      <td>1141</td>\n      <td>N619AA</td>\n      <td>JFK</td>\n      <td>MIA</td>\n      <td>160</td>\n      <td>1089</td>\n      <td>5</td>\n      <td>40</td>\n      <td>2021-01-01T05:00:00Z</td>\n    </tr>\n    <tr>\n      <th>3</th>\n      <td>2021</td>\n      <td>1</td>\n      <td>1</td>\n      <td>544</td>\n      <td>545</td>\n      <td>-1</td>\n      <td>1004</td>\n      <td>1022</td>\n      <td>-18</td>\n      <td>B6</td>\n      <td>725</td>\n      <td>N804JB</td>\n      <td>JFK</td>\n      <td>BQN</td>\n      <td>183</td>\n      <td>1576</td>\n      <td>5</td>\n      <td>45</td>\n      <td>2021-01-01T05:00:00Z</td>\n    </tr>\n    <tr>\n      <th>4</th>\n      <td>2021</td>\n      <td>1</td>\n      <td>1</td>\n      <td>554</td>\n      <td>600</td>\n      <td>-6</td>\n      <td>812</td>\n      <td>837</td>\n      <td>-25</td>\n      <td>DL</td>\n      <td>461</td>\n      <td>N668DN</td>\n      <td>LGA</td>\n      <td>ATL</td>\n      <td>116</td>\n      <td>762</td>\n      <td>6</td>\n      <td>0</td>\n      <td>2021-01-01T06:00:00Z</td>\n    </tr>\n    <tr>\n      <th>...</th>\n      <td>...</td>\n      <td>...</td>\n      <td>...</td>\n      <td>...</td>\n      <td>...</td>\n      <td>...</td>\n      <td>...</td>\n      <td>...</td>\n      <td>...</td>\n      <td>...</td>\n      <td>...</td>\n      <td>...</td>\n      <td>...</td>\n      <td>...</td>\n      <td>...</td>\n      <td>...</td>\n      <td>...</td>\n      <td>...</td>\n      <td>...</td>\n    </tr>\n    <tr>\n      <th>252699</th>\n      <td>2021</td>\n      <td>7</td>\n      <td>3</td>\n      <td>1059</td>\n      <td>1100</td>\n      <td>-1</td>\n      <td>1214</td>\n      <td>1210</td>\n      <td>4</td>\n      <td>MQ</td>\n      <td>3230</td>\n      <td>N522MQ</td>\n      <td>JFK</td>\n      <td>DCA</td>\n      <td>51</td>\n      <td>213</td>\n      <td>11</td>\n      <td>0</td>\n      <td>2021-07-03T11:00:00Z</td>\n    </tr>\n    <tr>\n      <th>252700</th>\n      <td>2021</td>\n      <td>7</td>\n      <td>3</td>\n      <td>1059</td>\n      <td>1100</td>\n      <td>-1</td>\n      <td>1207</td>\n      <td>1213</td>\n      <td>-6</td>\n      <td>US</td>\n      <td>2171</td>\n      <td>N754UW</td>\n      <td>LGA</td>\n      <td>DCA</td>\n      <td>43</td>\n      <td>214</td>\n      <td>11</td>\n      <td>0</td>\n      <td>2021-07-03T11:00:00Z</td>\n    </tr>\n    <tr>\n      <th>252701</th>\n      <td>2021</td>\n      <td>7</td>\n      <td>3</td>\n      <td>1101</td>\n      <td>1110</td>\n      <td>-9</td>\n      <td>1305</td>\n      <td>1240</td>\n      <td>25</td>\n      <td>9E</td>\n      <td>3910</td>\n      <td>N813AY</td>\n      <td>JFK</td>\n      <td>RIC</td>\n      <td>61</td>\n      <td>288</td>\n      <td>11</td>\n      <td>10</td>\n      <td>2021-07-03T11:00:00Z</td>\n    </tr>\n    <tr>\n      <th>252702</th>\n      <td>2021</td>\n      <td>7</td>\n      <td>3</td>\n      <td>1105</td>\n      <td>1055</td>\n      <td>10</td>\n      <td>1435</td>\n      <td>1358</td>\n      <td>37</td>\n      <td>B6</td>\n      <td>971</td>\n      <td>N598JB</td>\n      <td>LGA</td>\n      <td>FLL</td>\n      <td>176</td>\n      <td>1076</td>\n      <td>10</td>\n      <td>55</td>\n      <td>2021-07-03T10:00:00Z</td>\n    </tr>\n    <tr>\n      <th>252703</th>\n      <td>2021</td>\n      <td>7</td>\n      <td>3</td>\n      <td>1107</td>\n      <td>1100</td>\n      <td>7</td>\n      <td>1220</td>\n      <td>1230</td>\n      <td>-10</td>\n      <td>WN</td>\n      <td>3297</td>\n      <td>N264LV</td>\n      <td>LGA</td>\n      <td>BNA</td>\n      <td>109</td>\n      <td>764</td>\n      <td>11</td>\n      <td>0</td>\n      <td>2021-07-03T11:00:00Z</td>\n    </tr>\n  </tbody>\n</table>\n<p>252704 rows × 19 columns</p>\n</div>"
     },
     "execution_count": 290,
     "metadata": {},
     "output_type": "execute_result"
    }
   ],
   "source": [
    "airports_head = airports_df.head()\n",
    "flights_head = flights_df.head()\n",
    "planes_head = planes_df.head()\n",
    "airlines_head = airlines_df.head()\n",
    "\n",
    "flights_df"
   ],
   "metadata": {
    "collapsed": false,
    "ExecuteTime": {
     "end_time": "2024-10-16T12:11:34.402645Z",
     "start_time": "2024-10-16T12:11:34.388475Z"
    }
   },
   "id": "ee91364fa4df9a3a",
   "execution_count": 290
  },
  {
   "cell_type": "markdown",
   "source": [
    "Question 1"
   ],
   "metadata": {
    "collapsed": false
   },
   "id": "7c2c5c1c81029c80"
  },
  {
   "cell_type": "code",
   "outputs": [
    {
     "name": "stdout",
     "output_type": "stream",
     "text": [
      "Nombre total d'aéroports : 1458\n",
      "Nombre total de départs : 3\n",
      "Nombre total de destinations : 103\n",
      "Nombre d'aéroports où on ne passe pas à l'heure d'été : 23\n",
      "Nombre de fuseaux horaires différents : 10\n",
      "Nombre de compagnies aériennes : 16\n",
      "Nombre d'avions : 3322\n",
      "Nombre de vols annulés : 6481\n"
     ]
    }
   ],
   "source": [
    "# Calcul du nombre total d'aéroports, de fuseaux horaires, et des aéroports sans passage à l'heure d'été (dst == 'N')\n",
    "total_airports = len(airports_df)\n",
    "airports_no_dst = len(airports_df[airports_df['dst'] == 'N'])\n",
    "timezones = airports_df['tzone'].nunique()\n",
    "\n",
    "# Calcul du nombre total de départs\n",
    "total_departures = flights_df['origin'].nunique()\n",
    "\n",
    "# Nombre de destinations\n",
    "total_destinations = flights_df['dest'].nunique()\n",
    "\n",
    "# Nombre de compagnies\n",
    "total_companies = len(airlines_df)\n",
    "\n",
    "# Nombre d'avions\n",
    "total_planes = len(planes_df)\n",
    "\n",
    "# Vérifie si les colonnes 'dep_time' et 'arr_time' ont des valeurs manquantes\n",
    "flights_cancelled = flights_df[(flights_df['dep_time'] == ' ') & (flights_df['arr_time']== ' ')]\n",
    "\n",
    "# Calcule le nombre total de vols annulés\n",
    "total_cancelled_flights = len(flights_cancelled)\n",
    "\n",
    "# Affichage des résultats\n",
    "print(f\"Nombre total d'aéroports : {total_airports}\")\n",
    "print(f\"Nombre total de départs : {total_departures}\")\n",
    "print(f\"Nombre total de destinations : {total_destinations}\")\n",
    "print(f\"Nombre d'aéroports où on ne passe pas à l'heure d'été : {airports_no_dst}\")\n",
    "print(f\"Nombre de fuseaux horaires différents : {timezones}\")\n",
    "print(f\"Nombre de compagnies aériennes : {total_companies}\")\n",
    "print(f\"Nombre d'avions : {total_planes}\")\n",
    "print(f\"Nombre de vols annulés : {total_cancelled_flights}\")"
   ],
   "metadata": {
    "collapsed": false,
    "ExecuteTime": {
     "end_time": "2024-10-16T10:59:07.892061Z",
     "start_time": "2024-10-16T10:59:07.747301Z"
    }
   },
   "id": "1bd5da516ec94d67",
   "execution_count": 288
  },
  {
   "cell_type": "markdown",
   "source": [
    "Question 2"
   ],
   "metadata": {
    "collapsed": false
   },
   "id": "989a2562ab538172"
  },
  {
   "cell_type": "code",
   "outputs": [
    {
     "data": {
      "text/plain": "                                 name dest   percent\n0     Hartsfield Jackson Atlanta Intl  ATL  5.122990\n1                  Chicago Ohare Intl  ORD  5.007440\n2                    Los Angeles Intl  LAX  4.707088\n3  General Edward Lawrence Logan Intl  BOS  4.574522\n4                        Orlando Intl  MCO  4.209273\n5              Charlotte Douglas Intl  CLT  4.134481\n6                  San Francisco Intl  SFO  3.849959\n7      Fort Lauderdale Hollywood Intl  FLL  3.736783\n8                          Miami Intl  MIA  3.536944\n9       Ronald Reagan Washington Natl  DCA  2.922787",
      "text/html": "<div>\n<style scoped>\n    .dataframe tbody tr th:only-of-type {\n        vertical-align: middle;\n    }\n\n    .dataframe tbody tr th {\n        vertical-align: top;\n    }\n\n    .dataframe thead th {\n        text-align: right;\n    }\n</style>\n<table border=\"1\" class=\"dataframe\">\n  <thead>\n    <tr style=\"text-align: right;\">\n      <th></th>\n      <th>name</th>\n      <th>dest</th>\n      <th>percent</th>\n    </tr>\n  </thead>\n  <tbody>\n    <tr>\n      <th>0</th>\n      <td>Hartsfield Jackson Atlanta Intl</td>\n      <td>ATL</td>\n      <td>5.122990</td>\n    </tr>\n    <tr>\n      <th>1</th>\n      <td>Chicago Ohare Intl</td>\n      <td>ORD</td>\n      <td>5.007440</td>\n    </tr>\n    <tr>\n      <th>2</th>\n      <td>Los Angeles Intl</td>\n      <td>LAX</td>\n      <td>4.707088</td>\n    </tr>\n    <tr>\n      <th>3</th>\n      <td>General Edward Lawrence Logan Intl</td>\n      <td>BOS</td>\n      <td>4.574522</td>\n    </tr>\n    <tr>\n      <th>4</th>\n      <td>Orlando Intl</td>\n      <td>MCO</td>\n      <td>4.209273</td>\n    </tr>\n    <tr>\n      <th>5</th>\n      <td>Charlotte Douglas Intl</td>\n      <td>CLT</td>\n      <td>4.134481</td>\n    </tr>\n    <tr>\n      <th>6</th>\n      <td>San Francisco Intl</td>\n      <td>SFO</td>\n      <td>3.849959</td>\n    </tr>\n    <tr>\n      <th>7</th>\n      <td>Fort Lauderdale Hollywood Intl</td>\n      <td>FLL</td>\n      <td>3.736783</td>\n    </tr>\n    <tr>\n      <th>8</th>\n      <td>Miami Intl</td>\n      <td>MIA</td>\n      <td>3.536944</td>\n    </tr>\n    <tr>\n      <th>9</th>\n      <td>Ronald Reagan Washington Natl</td>\n      <td>DCA</td>\n      <td>2.922787</td>\n    </tr>\n  </tbody>\n</table>\n</div>"
     },
     "execution_count": 298,
     "metadata": {},
     "output_type": "execute_result"
    }
   ],
   "source": [
    "# Total des vols pour calculer le pourcentage\n",
    "total_flights = len(flights_df)\n",
    "\n",
    "# Calcul de l'aéroport de départ le plus emprunté\n",
    "top_departure_airport = flights_df['origin'].value_counts().idxmax()\n",
    "top_departure_airport_count = flights_df['origin'].value_counts().max()\n",
    "\n",
    "# Calcul des 10 destinations les plus et les moins prisées\n",
    "top_10_destinations = flights_df['dest'].value_counts().head(10)\n",
    "# Calcul du pourcentage pour chaque destination\n",
    "top_10_destinations_percent = (top_10_destinations / total_flights) * 100\n",
    "\n",
    "# Jointure pour récupérer les noms complets des aéroports\n",
    "top_10_destinations_named = pd.merge(\n",
    "    top_10_destinations.reset_index(),  # Convertir en DataFrame\n",
    "    airports_df[['faa', 'name']],  # Sélectionner les colonnes nécessaires dans airports_df\n",
    "    left_on='dest',  # Faire la jointure sur 'index', qui est le code d'aéroport (dest)\n",
    "    right_on='faa',   # Joindre avec la clé 'faa' dans airports_df\n",
    "    how='left'        # Faire un left join pour garder toutes les destinations\n",
    ")\n",
    "\n",
    "# Ajouter la colonne du pourcentage\n",
    "top_10_destinations_named['percent'] = top_10_destinations_percent.values\n",
    "\n",
    "# Renommer les colonnes pour plus de clarté\n",
    "top_10_destinations_named = top_10_destinations_named[['name', 'dest', 'percent']]\n",
    "\n",
    "# Sélectionner et renommer les colonnes pertinentes\n",
    "top_10_destinations_named = top_10_destinations_named.rename(columns={'index': 'dest'})\n",
    "\n",
    "# Calcul des 10 destinations les moins prisées\n",
    "least_10_destinations = flights_df['dest'].value_counts().tail(10)\n",
    "# Jointure pour récupérer les noms complets des aéroports\n",
    "least_10_destinations_named = pd.merge(\n",
    "    least_10_destinations.reset_index(),  # Convertir en DataFrame\n",
    "    airports_df[['faa', 'name']],  # Sélectionner les colonnes nécessaires dans airports_df\n",
    "    left_on='dest',  # Faire la jointure sur 'index', qui est le code d'aéroport (dest)\n",
    "    right_on='faa',   # Joindre avec la clé 'faa' dans airports_df\n",
    "    how='left'        # Faire un left join pour garder toutes les destinations\n",
    ")\n",
    "\n",
    "# Renommer les colonnes pour plus de clarté\n",
    "least_10_destinations_named = least_10_destinations_named[['name', 'dest']]\n",
    "\n",
    "# Calcul des 10 avions qui ont le plus et le moins décollé\n",
    "top_10_planes = flights_df['tailnum'].value_counts().head(10)\n",
    "least_10_planes = flights_df['tailnum'].value_counts().tail(10)\n",
    "\n",
    "top_10_destinations_named\n",
    "# least_10_destinations_named"
   ],
   "metadata": {
    "collapsed": false,
    "ExecuteTime": {
     "end_time": "2024-10-16T12:28:39.107492Z",
     "start_time": "2024-10-16T12:28:38.885854Z"
    }
   },
   "id": "cf70f5f367fef4e1",
   "execution_count": 298
  },
  {
   "cell_type": "code",
   "outputs": [],
   "source": [],
   "metadata": {
    "collapsed": false
   },
   "id": "24853ee7d4065550"
  }
 ],
 "metadata": {
  "kernelspec": {
   "display_name": "Python 3",
   "language": "python",
   "name": "python3"
  },
  "language_info": {
   "codemirror_mode": {
    "name": "ipython",
    "version": 2
   },
   "file_extension": ".py",
   "mimetype": "text/x-python",
   "name": "python",
   "nbconvert_exporter": "python",
   "pygments_lexer": "ipython2",
   "version": "2.7.6"
  }
 },
 "nbformat": 4,
 "nbformat_minor": 5
}
