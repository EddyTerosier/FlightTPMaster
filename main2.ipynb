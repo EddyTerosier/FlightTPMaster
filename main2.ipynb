{
 "cells": [
  {
   "cell_type": "markdown",
   "source": [
    "Import"
   ],
   "metadata": {
    "collapsed": false
   },
   "id": "4b6426b29bcac850"
  },
  {
   "cell_type": "code",
   "outputs": [],
   "source": [
    "import os\n",
    "import json\n",
    "\n",
    "import pandas as pd\n",
    "from matplotlib import pyplot as plt\n",
    "import sqlite3"
   ],
   "metadata": {
    "collapsed": false,
    "ExecuteTime": {
     "end_time": "2024-10-16T10:08:12.193202Z",
     "start_time": "2024-10-16T10:08:12.189769Z"
    }
   },
   "id": "7b21fadfed457f14",
   "execution_count": 5
  },
  {
   "cell_type": "markdown",
   "source": [
    "Connexion à la base de données"
   ],
   "metadata": {
    "collapsed": false
   },
   "id": "b77f70720beba765"
  },
  {
   "cell_type": "code",
   "outputs": [
    {
     "data": {
      "text/plain": "(1461,)"
     },
     "execution_count": 8,
     "metadata": {},
     "output_type": "execute_result"
    }
   ],
   "source": [
    "conn = sqlite3.connect('trafic1.db')\n",
    "cursor = conn.cursor()\n",
    "\n",
    "cursor.execute(\"SELECT count(*) FROM airports;\")\n",
    "cursor.fetchone()"
   ],
   "metadata": {
    "collapsed": false,
    "ExecuteTime": {
     "end_time": "2024-10-16T12:16:49.829589Z",
     "start_time": "2024-10-16T12:16:49.823803Z"
    }
   },
   "id": "58fe1c4658c65920",
   "execution_count": 8
  },
  {
   "cell_type": "code",
   "outputs": [],
   "source": [],
   "metadata": {
    "collapsed": false
   },
   "id": "fbdb7470941de118"
  }
 ],
 "metadata": {
  "kernelspec": {
   "display_name": "Python 3",
   "language": "python",
   "name": "python3"
  },
  "language_info": {
   "codemirror_mode": {
    "name": "ipython",
    "version": 2
   },
   "file_extension": ".py",
   "mimetype": "text/x-python",
   "name": "python",
   "nbconvert_exporter": "python",
   "pygments_lexer": "ipython2",
   "version": "2.7.6"
  }
 },
 "nbformat": 4,
 "nbformat_minor": 5
}
